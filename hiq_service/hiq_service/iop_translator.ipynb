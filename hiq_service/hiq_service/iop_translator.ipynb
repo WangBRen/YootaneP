{
 "cells": [
  {
   "cell_type": "code",
   "execution_count": 1,
   "metadata": {},
   "outputs": [],
   "source": [
    "def trans_op(self):\n",
    "    #op转义函数，在‘前加两个反斜杠\n",
    "    #op为operation简写，即每个操作\n",
    "    if self == 'X':\n",
    "        return \"\\\\'X\\\\'\"\n",
    "    if self == 'Z':\n",
    "        return \"\\\\'Z\\\\'\"\n",
    "    if self == 'Y':\n",
    "        return \"\\\\'Y\\\\'\"\n",
    "    if self == \"H\":\n",
    "        return \"\\\\'H\\\\'\"\n",
    "    if self == 'Rx':\n",
    "        return \"\\\\'Rx\\\\'\"\n",
    "    if self == 'Ry':\n",
    "        return \"\\\\'Ry\\\\'\"\n",
    "    if self == 'Rz':\n",
    "        return \"\\\\'Rz\\\\'\"\n",
    "    if self == 'T':\n",
    "        return \"\\\\'T\\\\'\"\n",
    "    if self == 'CNOT':\n",
    "        return \"\\\\'CNOT\\\\'\"\n",
    "    if self == 'ISWAP':\n",
    "        return \"\\\\'ISWAP\\\\'\""
   ]
  },
  {
   "cell_type": "code",
   "execution_count": 2,
   "metadata": {},
   "outputs": [],
   "source": [
    "def trans_iop_str(self, nqubits = 3 , layers = 4 ):\n",
    "\n",
    "##nqubits定义可以操作的量子比特数    \n",
    "##layers线路层数\n",
    "    op_list = self[\"blocks\"]\n",
    "    n=len(op_list)\n",
    "    last_iop = []\n",
    "    mea = []\n",
    "    hiq_list=[[[] for col in range(10)] for row in range(10)]\n",
    "    for k in range(n-1):\n",
    "        for i in range(n-1-k):\n",
    "            if op_list[i]['pos'][0]>op_list[i+1]['pos'][0]:\n",
    "                op_list[i],op_list[i+1] = op_list[i+1],op_list[i]\n",
    "    \n",
    "    r = [0] * nqubits\n",
    "    l = [0] * layers\n",
    "\n",
    "    op = [[]]*layers\n",
    "    \n",
    "\n",
    "    for i in range(n):\n",
    "            k = op_list[i]['pos'][0]\n",
    "            # k为线路深度即操作处在线路第几层\n",
    "            j = op_list[i]['pos'][1]\n",
    "            # j为量子比特位\n",
    "            hiq_list[k][j] = op_list[i]['type']           \n",
    "\n",
    "            for h in range(nqubits):\n",
    "                if  j == h:\n",
    "                    op_or = hiq_list[k][j]\n",
    "                    #op_or未处理的操作\n",
    "                    op_add = trans_op(op_or)\n",
    "                    #op_add加转义符后的操作\n",
    "                    if op_or == 'Measure':\n",
    "                        mea.append(j)\n",
    "                        continue\n",
    "    #                 op += \"\\\\\"\n",
    "                    op_str = \"[\"\n",
    "                    op_str += op_add\n",
    "                    op_str += \",\"\n",
    "                    op_str += str(j)\n",
    "                    op_str += \",\"\n",
    "                    if op_list[i]['ctrls'] == []:\n",
    "                        para = 0\n",
    "                    else: \n",
    "                        para = op_list[i]['ctrls'][0]\n",
    "\n",
    "                    op_str += str(para)\n",
    "                    op_str += \"]\"\n",
    "                    r[h] += 1\n",
    "                    #判定用到了哪几个比特位，在这个比特上作用一次就加一\n",
    "                    if r[h] <= 1:\n",
    "                        last_iop.append(j) \n",
    "                    op_h = op_str\n",
    "                \n",
    "            for layer in range(layers):\n",
    "                op_or = hiq_list[k][j]\n",
    "                if op_or == 'Measure':\n",
    "                    l[k] += -1\n",
    "                if k == layer:\n",
    "                    l[k] += 1\n",
    "                    if l[k] <= 1:\n",
    "                        op[layer] = \"[\"\n",
    "                        op[layer] += op_str\n",
    "                    if l[k] >1:\n",
    "                        op[layer] += \",\"\n",
    "                        op[layer] += op_str\n",
    "                    op_str = \"\"\n",
    "                    #刷新op_str\n",
    "\n",
    "\n",
    "    for layer in range(layers):\n",
    "        op[layer] += \"],\"\n",
    "        if l[layer] <= 0:\n",
    "            op[layer] = \"\"\n",
    "\n",
    "    \n",
    "    op_last = \"\"\n",
    "    for layer in range(layers):\n",
    "        op_last += op[layer]\n",
    "        \n",
    "    op_last += str(mea)\n",
    "    op_last += \",\"\n",
    "    op_last += str(last_iop)\n",
    "\n",
    "        \n",
    "            \n",
    "    return  op_last"
   ]
  },
  {
   "cell_type": "code",
   "execution_count": 3,
   "metadata": {},
   "outputs": [],
   "source": [
    "a={\"blocks\":[{\"type\":\"X\",\"id\":1,\"pos\":[0,0],\"ctrls\":[]},{\"type\":\"Y\",\"id\":2,\"pos\":[0,1],\"ctrls\":[]},{\"type\":\"Z\",\"id\":3,\"pos\":[2,0],\"ctrls\":[]},{\"type\":\"H\",\"id\":4,\"pos\":[2,1],\"ctrls\":[]},{\"type\":\"T\",\"id\":5,\"pos\":[0,2],\"ctrls\":[]},{\"type\":\"Rx\",\"id\":7,\"pos\":[2,2],\"ctrls\":[]}]}"
   ]
  },
  {
   "cell_type": "code",
   "execution_count": 4,
   "metadata": {},
   "outputs": [],
   "source": [
    "b = {\"blocks\":[{\"type\":\"H\",\"id\":6,\"pos\":[0,0],\"ctrls\":[]},{\"type\":\"Rx\",\"id\":7,\"pos\":[0,1],\"ctrls\":[]},{\"type\":\"H\",\"id\":8,\"pos\":[1,0],\"ctrls\":[]},{\"type\":\"H\",\"id\":9,\"pos\":[1,1],\"ctrls\":[]},{\"type\":\"CNOT\",\"id\":10,\"pos\":[2,1],\"ctrls\":[0]},{\"type\":\"Measure\",\"id\":11,\"pos\":[3,0],\"ctrls\":[]},{\"type\":\"Measure\",\"id\":12,\"pos\":[3,1],\"ctrls\":[]}]}"
   ]
  },
  {
   "cell_type": "code",
   "execution_count": 5,
   "metadata": {},
   "outputs": [
    {
     "data": {
      "text/plain": [
       "\"[[\\\\'X\\\\',0,0],[\\\\'Y\\\\',1,0],[\\\\'T\\\\',2,0]],[[\\\\'Z\\\\',0,0],[\\\\'H\\\\',1,0],[\\\\'Rx\\\\',2,0]],[],[0, 1, 2]\""
      ]
     },
     "execution_count": 5,
     "metadata": {},
     "output_type": "execute_result"
    }
   ],
   "source": [
    "trans_iop_str(a)"
   ]
  },
  {
   "cell_type": "code",
   "execution_count": 6,
   "metadata": {},
   "outputs": [
    {
     "data": {
      "text/plain": [
       "\"[[\\\\'H\\\\',0,0],[\\\\'Rx\\\\',1,0]],[[\\\\'H\\\\',0,0],[\\\\'H\\\\',1,0]],[[\\\\'CNOT\\\\',1,0]],[0, 1],[0, 1]\""
      ]
     },
     "execution_count": 6,
     "metadata": {},
     "output_type": "execute_result"
    }
   ],
   "source": [
    "trans_iop_str(b)"
   ]
  },
  {
   "cell_type": "code",
   "execution_count": null,
   "metadata": {},
   "outputs": [],
   "source": []
  }
 ],
 "metadata": {
  "kernelspec": {
   "display_name": "Python 3",
   "language": "python",
   "name": "python3"
  },
  "language_info": {
   "codemirror_mode": {
    "name": "ipython",
    "version": 3
   },
   "file_extension": ".py",
   "mimetype": "text/x-python",
   "name": "python",
   "nbconvert_exporter": "python",
   "pygments_lexer": "ipython3",
   "version": "3.8.5"
  }
 },
 "nbformat": 4,
 "nbformat_minor": 4
}
